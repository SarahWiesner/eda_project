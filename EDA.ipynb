{
 "cells": [
  {
   "cell_type": "markdown",
   "metadata": {},
   "source": [
    "# EDA project documentation"
   ]
  },
  {
   "attachments": {},
   "cell_type": "markdown",
   "metadata": {},
   "source": [
    "**Table of contents**<a id='toc0_'></a>    \n",
    "- [Preparations and first glance](#toc1_)    \n",
    "- [Data Cleaning](#toc2_)    \n",
    "- [Generating general insight](#toc3_)    \n",
    "  - [Histograms](#toc3_1_)    \n",
    "  - [Boxplots](#toc3_2_)    \n",
    "  - [Barplots](#toc3_3_)    \n",
    "  - [Correlation](#toc3_4_)    \n",
    "  - [Geographical mapping](#toc3_5_)    \n",
    "- [Regarding the hypotheses and insights](#toc4_)    \n",
    "  - [1) Does the location of a house affect the price?](#toc4_1_)    \n",
    "  - [2) Are older houses of less quality?](#toc4_2_)    \n",
    "  - [3) Do larger houses have more rooms?](#toc4_3_)    \n",
    "- [Customer's wishes](#toc5_)    \n",
    "  - [1) Located near the waterfront](#toc5_1_)    \n",
    "  - [2) Not too costly](#toc5_2_)    \n",
    "  - [3) Nice house with enough rooms for kids and a spacious lot / garden](#toc5_3_)    \n",
    "  - [4) Isolated from other houses but in a central neighbourhood without kids](#toc5_4_)    \n",
    "\n",
    "<!-- vscode-jupyter-toc-config\n",
    "\tnumbering=false\n",
    "\tanchor=true\n",
    "\tflat=false\n",
    "\tminLevel=2\n",
    "\tmaxLevel=6\n",
    "\t/vscode-jupyter-toc-config -->\n",
    "<!-- THIS CELL WILL BE REPLACED ON TOC UPDATE. DO NOT WRITE YOUR TEXT IN THIS CELL -->"
   ]
  },
  {
   "cell_type": "markdown",
   "metadata": {},
   "source": [
    "## <a id='toc1_'></a>[Preparations and first glance](#toc0_)\n",
    "To start with the EDA, as a first step the necessary libraries are imported. Afterwards the files needed are loaded.\n"
   ]
  },
  {
   "cell_type": "code",
   "execution_count": null,
   "metadata": {},
   "outputs": [],
   "source": [
    "# import necessary libraries\n",
    "import numpy as np\n",
    "import pandas as pd\n",
    "import psycopg2\n",
    "import missingno as msno\n",
    "from uszipcode import SearchEngine, ComprehensiveZipcode"
   ]
  },
  {
   "cell_type": "code",
   "execution_count": null,
   "metadata": {},
   "outputs": [],
   "source": [
    "# import the necessary libraries you need for your visualization\n",
    "import matplotlib.pyplot as plt\n",
    "import seaborn as sns\n",
    "import plotly.express as px"
   ]
  },
  {
   "cell_type": "code",
   "execution_count": null,
   "metadata": {},
   "outputs": [],
   "source": [
    "# load dotenv from os\n",
    "import os\n",
    "from dotenv import load_dotenv\n",
    "\n",
    "load_dotenv(\"/Users/sarahwiesner/Downloads/.env\")\n",
    "\n",
    "DATABASE = os.getenv('DATABASE')\n",
    "USER_DB = os.getenv('USER_DB')\n",
    "PASSWORD = os.getenv('PASSWORD')\n",
    "HOST = os.getenv('HOST')\n",
    "PORT = os.getenv('PORT')\n",
    "\n",
    "# Create connection object conn\n",
    "conn = psycopg2.connect(\n",
    "    database=DATABASE,\n",
    "    user=USER_DB,\n",
    "    password=PASSWORD,\n",
    "    host=HOST,\n",
    "    port=PORT\n",
    ")\n",
    "# create cursor\n",
    "cur = conn.cursor()\n",
    "\n",
    "# import the data into a pandas dataframe\n",
    "query_string = \"SELECT * FROM eda.king_county_house_sales JOIN eda.king_county_house_details ON eda.king_county_house_sales.house_id = eda.king_county_house_details.id\"\n",
    "df = pd.read_sql(query_string, conn)\n",
    "\n",
    "# close the connection\n",
    "conn.close()\n",
    "\n"
   ]
  },
  {
   "cell_type": "code",
   "execution_count": null,
   "metadata": {},
   "outputs": [],
   "source": [
    "#export the data to a csv-file\n",
    "df.to_csv('data/eda.csv', na_rep=['<NA>'], index=False)"
   ]
  },
  {
   "attachments": {},
   "cell_type": "markdown",
   "metadata": {},
   "source": [
    "Next, one might want to get an overview what the data looks like, how large the DataFrame is and what it contains."
   ]
  },
  {
   "cell_type": "code",
   "execution_count": null,
   "metadata": {},
   "outputs": [],
   "source": [
    "# DataFrame size\n",
    "df.shape"
   ]
  },
  {
   "cell_type": "code",
   "execution_count": null,
   "metadata": {},
   "outputs": [],
   "source": [
    "# information on column names and data types\n",
    "df.info()"
   ]
  },
  {
   "cell_type": "code",
   "execution_count": null,
   "metadata": {},
   "outputs": [],
   "source": [
    "df.head(10)"
   ]
  },
  {
   "attachments": {},
   "cell_type": "markdown",
   "metadata": {},
   "source": [
    "Using the [US Zipcode Library](https://uszipcode.readthedocs.io/index.html) is helpful as it provides information on the geographic and demographic data according to each zipcode in the us, containing more than 1300 datapoints of a zipcode. "
   ]
  },
  {
   "cell_type": "code",
   "execution_count": null,
   "metadata": {},
   "outputs": [],
   "source": [
    "# get details on the area and the neighbourhood from the uszipcode library\n",
    "# takes quite some time to download, please be patient (450 MB)\n",
    "\n",
    "zip_x = df.zipcode # list of all zipcodes\n",
    "\n",
    "search = SearchEngine(simple_or_comprehensive=SearchEngine.SimpleOrComprehensiveArgEnum.comprehensive) # download data"
   ]
  },
  {
   "cell_type": "code",
   "execution_count": null,
   "metadata": {},
   "outputs": [],
   "source": [
    "# define functions to get values from uszipcode library\n",
    "def zco(zip_x):\n",
    "    city = search.by_zipcode(zip_x).major_city  # get the city names for the zip codes\n",
    "    return city if city else 'None'\n",
    "    \n",
    "    \n",
    "def zco2(zip_x):\n",
    "    kids = search.by_zipcode(zip_x).households_with_kids  # get the number of households for the zip codes\n",
    "    return kids if kids else NaN"
   ]
  },
  {
   "cell_type": "code",
   "execution_count": null,
   "metadata": {},
   "outputs": [],
   "source": [
    "# apply function and add column city to DataFrame\n",
    "df['city'] = df['zipcode'].apply(zco)"
   ]
  },
  {
   "cell_type": "code",
   "execution_count": null,
   "metadata": {},
   "outputs": [],
   "source": [
    "# apply function, returns series\n",
    "df_kids = df['zipcode'].apply(zco2)\n",
    "\n",
    "# generating helper DataFrame\n",
    "help_df = pd.DataFrame(df_kids)\n",
    "help_df.rename(columns={'zipcode': 'kids'}, inplace=True)\n",
    "\n"
   ]
  },
  {
   "cell_type": "code",
   "execution_count": null,
   "metadata": {},
   "outputs": [],
   "source": [
    "# define function to read values out of dictionary which is given in the columns of the library\n",
    "kidsnum = []\n",
    "kidsnum2 = []\n",
    "def kids_function(help_df):\n",
    "    for i in range(0,len(help_df)):\n",
    "        kidsnum.append(help_df[i][0]['values'][0]['y']) # households without kids\n",
    "        kidsnum2.append(help_df[i][0]['values'][1]['y']) # households with kids\n",
    "    return kidsnum, kidsnum2  \n",
    "        "
   ]
  },
  {
   "cell_type": "code",
   "execution_count": null,
   "metadata": {},
   "outputs": [],
   "source": [
    "# apply function\n",
    "df_help = help_df.apply(kids_function)"
   ]
  },
  {
   "cell_type": "code",
   "execution_count": null,
   "metadata": {},
   "outputs": [],
   "source": [
    "# add to dataframe\n",
    "df['no_kids'] = kidsnum\n",
    "df['kids'] = kidsnum2"
   ]
  },
  {
   "cell_type": "markdown",
   "metadata": {},
   "source": [
    "## <a id='toc2_'></a>[Data Cleaning](#toc0_)\n",
    "\n",
    "To get a consistent dataset, several steps need to be conducted for cleaning."
   ]
  },
  {
   "cell_type": "code",
   "execution_count": null,
   "metadata": {},
   "outputs": [],
   "source": [
    "# Are there any duplicates in the data\n",
    "df.duplicated().value_counts()\n"
   ]
  },
  {
   "cell_type": "code",
   "execution_count": null,
   "metadata": {},
   "outputs": [],
   "source": [
    "# drop id column (three columns with this name after joining)\n",
    "\n",
    "df.drop([\"id\", \"id\"], axis=1, inplace=True)"
   ]
  },
  {
   "cell_type": "code",
   "execution_count": null,
   "metadata": {},
   "outputs": [],
   "source": [
    "# convert date object into datetime\n",
    "\n",
    "df['date'] = pd.to_datetime(df['date'], format='%Y-%m-%d')"
   ]
  },
  {
   "cell_type": "code",
   "execution_count": null,
   "metadata": {},
   "outputs": [],
   "source": [
    "# have a look at desciptive statistics - helps to identify odd values\n",
    "df_stats = df.describe()\n",
    "df_stats"
   ]
  },
  {
   "cell_type": "code",
   "execution_count": null,
   "metadata": {},
   "outputs": [],
   "source": [
    "# convert several columns to dtype \"Int64\"\n",
    "df['price'] = df['price'].astype('Int64')\n",
    "df['sqft_living'] = df['sqft_living'].astype('Int64')\n",
    "df['sqft_lot'] = df['sqft_lot'].astype('Int64')\n",
    "df['waterfront'] = df['waterfront'].astype('Int64')\n",
    "df['view'] = df['view'].astype('Int64')\n",
    "df['sqft_above'] = df['sqft_above'].astype('Int64')\n",
    "df['sqft_basement'] = df['sqft_basement'].astype('Int64')\n",
    "df['sqft_living15'] = df['sqft_living15'].astype('Int64')\n",
    "df['sqft_lot15'] = df['sqft_lot15'].astype('Int64')"
   ]
  },
  {
   "cell_type": "code",
   "execution_count": null,
   "metadata": {},
   "outputs": [],
   "source": [
    "# remove 0 from yr_renovated\n",
    "df['yr_renovated'] = df.yr_renovated.apply(lambda x : x/10)\n"
   ]
  },
  {
   "cell_type": "code",
   "execution_count": null,
   "metadata": {},
   "outputs": [],
   "source": [
    "# fill <NA> values in yr_renovated with nan \n",
    "df['yr_renovated'].replace(0, np.nan, inplace=True)"
   ]
  },
  {
   "cell_type": "code",
   "execution_count": null,
   "metadata": {},
   "outputs": [],
   "source": [
    "# convert yr_renovated to dtype \"Int64\" and remove one 0\n",
    "df['yr_renovated'] = df['yr_renovated'].astype('Int64')\n"
   ]
  },
  {
   "attachments": {},
   "cell_type": "markdown",
   "metadata": {},
   "source": [
    "To know the frequency of missing information is valuable. Therefore, missigno is used."
   ]
  },
  {
   "cell_type": "code",
   "execution_count": null,
   "metadata": {},
   "outputs": [],
   "source": [
    "# display number of missing values per column\n",
    "df.isna().sum()"
   ]
  },
  {
   "cell_type": "code",
   "execution_count": null,
   "metadata": {},
   "outputs": [],
   "source": [
    "# visualisation of NaN with missigno\n",
    " \n",
    "msno.matrix(df)"
   ]
  },
  {
   "attachments": {},
   "cell_type": "markdown",
   "metadata": {},
   "source": [
    "This plot shows, that for the yr_renovated data the most values are missing. Also, the waterfront data show a lot of gaps. For sqft_basement some cells are empty and one information on the number of views is not given.\n",
    "\n",
    "\n",
    "To deal with NaNs and < NA > values, the corresponding columns are cleaned.\n",
    "For visualization later on, new dataframes are created that do not contain the houses for which the respective column contains NaNs. The same is done for zeros in case of the \"view\" table, assuming that 0 means that there is no information on this parameter."
   ]
  },
  {
   "cell_type": "code",
   "execution_count": null,
   "metadata": {},
   "outputs": [],
   "source": [
    "# creating new dataframes and filter for values that are not NaN or 0\n",
    "\n",
    "df_view_clean = df[df['view'] != 0] \n",
    "df_view_clean = df_view_clean[df_view_clean['view'].notna()]"
   ]
  },
  {
   "cell_type": "code",
   "execution_count": null,
   "metadata": {},
   "outputs": [],
   "source": [
    "df_waterfront_clean = df[df['waterfront'].notna()]"
   ]
  },
  {
   "cell_type": "code",
   "execution_count": null,
   "metadata": {},
   "outputs": [],
   "source": [
    "# within the existing dataframe\n",
    "\n",
    "# convert waterfront to boolean\n",
    "df.waterfront.fillna(0, inplace=True) # assuming NA means no waterfront\n",
    "df['waterfront'] = df['waterfront'].astype('bool')\n",
    "\n",
    "# fill NA with 0 for view value\n",
    "df.view.fillna(0, inplace=True) "
   ]
  },
  {
   "cell_type": "code",
   "execution_count": null,
   "metadata": {},
   "outputs": [],
   "source": [
    "df.columns"
   ]
  },
  {
   "cell_type": "markdown",
   "metadata": {},
   "source": [
    "## <a id='toc3_'></a>[Generating general insight](#toc0_)\n",
    "\n",
    "The following three questions and corresponding hypotheses are to be answered with the data analysis in this notebook:\n",
    "\n",
    "1.) Does the location of a house affect the price?\n",
    "    Hypothesis 1: Houses at the waterfront are more expensive.\n",
    "    Hypothesis 2: Objects within the suburbs are less expensive.\n",
    "\n",
    "2.) Are older houses of less quality?\n",
    "    Hypothesis: The grade of the housing unit is depending on the age and the year of the last renovation.\n",
    "\n",
    "3.) Do larger houses have more rooms?\n",
    "    Hypothesis: The number of bedrooms and bathrooms increases with the living area."
   ]
  },
  {
   "attachments": {},
   "cell_type": "markdown",
   "metadata": {},
   "source": [
    "Before the questions and hypotheses are approched, we have a look at the data in general. First, some simple queries, calculations and visualization is helpful to get an idea about the distribution of the data, extreme values and relationships between parameters."
   ]
  },
  {
   "cell_type": "code",
   "execution_count": null,
   "metadata": {},
   "outputs": [],
   "source": [
    "# when were the houses sold, and where are they located\n",
    "\n",
    "print(\"Earliest selling: \", df.date.min().strftime(\"%m/%d/%Y\"))\n",
    "print(\"Last selling: \", df.date.max().strftime(\"%m/%d/%Y\"))\n",
    "\n",
    "print(\"Range of zip codes: \", df.zipcode.min(), ' - ', df.zipcode.max())\n",
    "\n"
   ]
  },
  {
   "cell_type": "markdown",
   "metadata": {},
   "source": [
    "### <a id='toc3_1_'></a>[Histograms](#toc0_)"
   ]
  },
  {
   "cell_type": "code",
   "execution_count": null,
   "metadata": {},
   "outputs": [],
   "source": [
    "# distribution of numeric parameters\n",
    "\n",
    "df_renovated = df[df['yr_renovated'] > 0] # filter to avoid error in generating histogram \n",
    "\n",
    "fig, ax = plt.subplots(2,3, figsize=(20,10)) # create subplots on 2 rows and 3 columns\n",
    "plt.suptitle('Distribution of numeric columns', fontsize=20)\n",
    "fig.tight_layout() # tight_layout automatically adjusts subplot params so that the subplot(s) fits in to the figure area\n",
    "plt.subplots_adjust(hspace = .5, wspace = .2, top = .9) # adjusts the space between the single subplots\n",
    "\n",
    "ax[0][0].hist(x=df['price'], bins=100)  # creates histogram\n",
    "ax[0][0].set_ylabel(\"Number of houses\", fontsize = 10) # sets the label y-axis\n",
    "ax[0][0].set_xlim(0,8000000) # limits the x-axis \n",
    "ax[0][0].set_title(\"Price in USD\", fontsize = 15);  # sets title for subplot\n",
    "\n",
    "ax[0][1].hist(x=df['sqft_living'], bins=100)\n",
    "ax[0][1].set_ylabel(\"Number of houses\", fontsize = 10)\n",
    "ax[0][1].set_xlim(0,20000) \n",
    "ax[0][1].set_title(\"Living area in sqft\", fontsize = 15);  \n",
    "\n",
    "ax[0][2].hist(x=df['sqft_lot'], bins=1000)\n",
    "ax[0][2].set_ylabel(\"Number of houses\", fontsize = 10)\n",
    "ax[0][2].set_xlim(0,100000) \n",
    "ax[0][2].set_title(\"Lot area in sqft\", fontsize = 15);  \n",
    "\n",
    "ax[1][0].hist(x=df['yr_built'], bins=100)\n",
    "ax[1][0].set_ylabel(\"Number of houses\", fontsize = 10)\n",
    "ax[1][0].set_xlim(1900,2016) \n",
    "ax[1][0].set_title(\"Year of construction\", fontsize = 15);  \n",
    "\n",
    "ax[1][1].hist(x=df_renovated['yr_renovated'], bins=50)\n",
    "ax[1][1].set_ylabel(\"Number of houses\", fontsize = 10)\n",
    "ax[1][1].set_xlim(1890,2016) \n",
    "ax[1][1].set_ylim(0,100)  #0 are not displayed, thus y axis needs to be modified to fit values\n",
    "ax[1][1].set_title(\"Year of last renovation\", fontsize = 15);  \n",
    "\n",
    "\n",
    "fig.delaxes(ax[1][2])"
   ]
  },
  {
   "attachments": {},
   "cell_type": "markdown",
   "metadata": {},
   "source": [
    "The distributions of in the histograms above show the value of a numeric parameter (in bins) and the number of houses sold corresponding to this value. \n",
    "\n",
    "The distributions for the price, the living area and the lot area are right skewed. This means, that the median is closer to the lower end of the range, while high values are less common and spread.\n",
    "\n",
    "The houses in this database are of different ages: A part of it was built from 1900 to 1930. Apparently after WWII the construction of houses was resumed. In the 1950, the late 1970 as well as the 2010s peaks in the number of houses built are striking. Regarding the latest renovation of the building, the number increases up to present."
   ]
  },
  {
   "cell_type": "markdown",
   "metadata": {},
   "source": [
    "### <a id='toc3_2_'></a>[Boxplots](#toc0_)"
   ]
  },
  {
   "cell_type": "code",
   "execution_count": null,
   "metadata": {},
   "outputs": [],
   "source": [
    "# distribution of numeric parameters 2\n",
    "\n",
    "fig, ax = plt.subplots(1,3, figsize=(20,8)) # create subplots on 1 row and 3 columns\n",
    "plt.suptitle('Distribution of rooms and floors', fontsize=20)\n",
    "fig.tight_layout() # tight_layout automatically adjusts subplot params so that the subplot(s) fits in to the figure area\n",
    "plt.subplots_adjust(hspace = .5, wspace = .2, top = .9) # adjusts the space between the single subplots\n",
    "\n",
    "ax[0].boxplot(x = df['bedrooms']) # creates boxplot \n",
    "ax[0].set_xticks([])\n",
    "ax[0].set_ylim(0,10) # limits the y-axis values from 0 to 10 \n",
    "ax[0].set_title(\"Number of bedrooms\", fontsize = 15); # sets title for subplot\n",
    "\n",
    "ax[1].boxplot(x = df['bathrooms']) \n",
    "ax[1].set_xticks([])\n",
    "ax[1].set_ylim(0,10) \n",
    "ax[1].set_title(\"Number of bathrooms\", fontsize = 15); \n",
    "\n",
    "ax[2].boxplot(x = df['floors']) \n",
    "ax[2].set_xticks([])\n",
    "ax[2].set_ylim(0,5) \n",
    "ax[2].set_title(\"Number of floors\", fontsize = 15); \n"
   ]
  },
  {
   "attachments": {},
   "cell_type": "markdown",
   "metadata": {},
   "source": [
    "The range of the number of rooms is pretty narrow: The mid 50% of houses have 3-4 bedrooms (median 3) and 1.75 to 2.5 bathrooms (median 2.25). There are, however, some impressive outliers. The number of floors is 1 to 2."
   ]
  },
  {
   "cell_type": "markdown",
   "metadata": {},
   "source": [
    "### <a id='toc3_3_'></a>[Barplots](#toc0_)"
   ]
  },
  {
   "cell_type": "code",
   "execution_count": null,
   "metadata": {},
   "outputs": [],
   "source": [
    "# frequency of categorical parameters\n",
    "\n",
    "fig, ax = plt.subplots(1,2, figsize=(16,4)) # create subplots on 1 row and 2 columns\n",
    "fig.tight_layout() # tight_layout automatically adjusts subplot params so that the subplot(s) fits in to the figure area\n",
    "plt.subplots_adjust(hspace = .5, wspace = .2, top = .9) # adjusts the space between the single subplots\n",
    "\n",
    "p1 = sns.countplot(x = df['condition'], ax=ax[0])\n",
    "p1.set(xlabel=\"condition\") \n",
    "p1.set_ylabel(\"Number of houses\", fontsize = 10); \n",
    "p1.set_title('Condition of houses sold', fontsize=16); \n",
    "\n",
    "p2 = sns.countplot(x = df['grade'], ax=ax[1])\n",
    "p2.set(xlabel=\"grade\") \n",
    "p2.set_ylabel(\"Number of houses\", fontsize = 10); \n",
    "p2.set_title('Grade of houses sold', fontsize=16); \n"
   ]
  },
  {
   "attachments": {},
   "cell_type": "markdown",
   "metadata": {},
   "source": [
    "The houses sold are mainly of condition class 3, and subordinately 4 and 5. Very little houses are of a very good condition (1 or 2).\n",
    "\n",
    "The grades of the housing units sold are based on King County grading system (1-3 Falls short of minimum building standards, 13 Generally custom designed and built. Mansion level). The most common values are 7 and 8 (7 Average grade of construction and design. Commonly seen in plats and older sub-divisions, 8 Just above average in construction and design. Usually better materials in both the exterior and interior finish work). The distribution is slightly right skewed: the are more values above the mode value, yet spread over a larger range of grades. Grade 1 and 2 are not available.\n"
   ]
  },
  {
   "cell_type": "code",
   "execution_count": null,
   "metadata": {},
   "outputs": [],
   "source": [
    "# Visualize features of location\n",
    "\n",
    "fig, ax = plt.subplots(1,2, figsize=(16,8)) # create subplots on 1 row and 2 columns\n",
    "fig.tight_layout() # tight_layout automatically adjusts subplot params so that the subplot(s) fits in to the figure area\n",
    "plt.subplots_adjust(hspace = .5, wspace = .2, top = .9) # adjusts the space between the single subplots\n",
    "\n",
    "p1 = sns.countplot(x = df_waterfront_clean.waterfront, ax=ax[0])  # using the dataframe that contains no NaN\n",
    "p1.set(xticklabels=['no','yes'])\n",
    "p1.set_ylabel(\"Number of houses\", fontsize = 10); \n",
    "p1.set_title('location at waterfront', fontsize=16); \n",
    "\n",
    "p2 = sns.countplot(x = df_view_clean.view, ax=ax[1]) # using the dataframe that contains no NaN and no zeros\n",
    "p2.set(xlabel=\"view\") \n",
    "p2.set(xticklabels=['1','2','3','4'])\n",
    "p2.set_ylabel(\"Number of houses\", fontsize = 10); \n",
    "p2.set_title('views', fontsize=16);\n"
   ]
  },
  {
   "cell_type": "code",
   "execution_count": null,
   "metadata": {},
   "outputs": [],
   "source": [
    "# calculate share of houses at waterfront\n",
    "not_wf = df_waterfront_clean.groupby('waterfront').count()[\"house_id\"][0] # not at waterfront or no information\n",
    "wf = df_waterfront_clean.groupby('waterfront').count()[\"house_id\"][1] # known to be at waterfront\n",
    "total_wf = df_waterfront_clean.shape[0] # total without nans\n",
    "\n",
    "share_wf = wf/total_wf\n",
    "print(round(share_wf, 2))"
   ]
  },
  {
   "attachments": {},
   "cell_type": "markdown",
   "metadata": {},
   "source": [
    "Only a very small share of the houses sold are KNOWN to be located at the waterfront (0.01 %). It is realistic to assume, that the data on this parameter is not complete and several zeros are still located near the water.\n",
    "\n",
    "Data on the number of views the house had before it was sold might show, that mostly after two potential buyers saw the property, they decided to buy. More than 4 views did not occur - at least not documented."
   ]
  },
  {
   "cell_type": "markdown",
   "metadata": {},
   "source": [
    "### <a id='toc3_4_'></a>[Correlation](#toc0_)"
   ]
  },
  {
   "attachments": {},
   "cell_type": "markdown",
   "metadata": {},
   "source": [
    "The correlation matrix of the different numerical values in the DataFrame might give an idea, which parameters are related to each other. It can be visualized by a heat map, which makes the values easier to capture."
   ]
  },
  {
   "cell_type": "code",
   "execution_count": null,
   "metadata": {},
   "outputs": [],
   "source": [
    "# correlation matrix between variables\n",
    "\n",
    "# exclude 0 from yr_renovated\n",
    "df_renovated = df[df['yr_renovated'] > 0]\n",
    "\n",
    "corr_columns=[\"price\", \"sqft_living\", \"sqft_lot\", \"bedrooms\", \"bathrooms\", \"view\", \"condition\", \"grade\", \"yr_built\", \"yr_renovated\"]\n",
    "corr_mtrx=df_renovated[corr_columns].corr()"
   ]
  },
  {
   "cell_type": "code",
   "execution_count": null,
   "metadata": {},
   "outputs": [],
   "source": [
    "# draw a heatmap \n",
    "plt.figure(figsize = (8,7))\n",
    "ax = sns.heatmap(corr_mtrx, linewidths=.5, annot=True, cmap='PRGn')"
   ]
  },
  {
   "attachments": {},
   "cell_type": "markdown",
   "metadata": {},
   "source": [
    "So one can identify positive relationships between:\n",
    "\n",
    "- Price and sqft_living\n",
    "- Price and grade\n",
    "- Sqft_living bathrooms\n",
    "- Sqft_living and grade\n",
    "\n",
    "There are no notable relationships between the other variables."
   ]
  },
  {
   "cell_type": "code",
   "execution_count": null,
   "metadata": {},
   "outputs": [],
   "source": [
    "# Int64 type cannot be used for pivot tables, so the respective variables need to be converted to int64\n",
    "df[['price', 'view', 'grade']] = df[['price', 'view', 'grade']].astype('int64')  "
   ]
  },
  {
   "cell_type": "code",
   "execution_count": null,
   "metadata": {},
   "outputs": [],
   "source": [
    "# pivot table with decimals rounded to 0\n",
    "df_pivot = np.round(pd.pivot_table(df, values='price', index='grade', columns='view', aggfunc=np.mean), 0)"
   ]
  },
  {
   "cell_type": "code",
   "execution_count": null,
   "metadata": {},
   "outputs": [],
   "source": [
    "# visualization of the pivot table\n",
    "df_pivot.plot(xlabel = 'grade', ylabel = 'price in USD', colormap = 'gist_rainbow')"
   ]
  },
  {
   "attachments": {},
   "cell_type": "markdown",
   "metadata": {},
   "source": [
    "The pivot table shows the relation between grade and price of the houses, while the view categories 1 and 4 appear to on the upper range for every grade-price-constellation.\n",
    "Objects rated with a higher grade are viewed more often or sold immediately (and are more expensive)."
   ]
  },
  {
   "cell_type": "markdown",
   "metadata": {},
   "source": [
    "### <a id='toc3_5_'></a>[Geographical mapping](#toc0_)\n",
    "\n",
    "A next step could be to get an overview over the locations of the houses and their prices by plotting a geographical map."
   ]
  },
  {
   "cell_type": "code",
   "execution_count": null,
   "metadata": {},
   "outputs": [],
   "source": [
    "#Filter for houses of less than 2 M USD, to make differences more visible\n",
    "\n",
    "df_price = df[df[\"price\"] < 2000000]\n",
    "\n",
    "# create a map of the area with the location of the houses\n",
    "fig = px.scatter_mapbox(df_price, \n",
    "                        lat=\"lat\", lon=\"long\", # location\n",
    "                        color=\"price\", # column for ranking\n",
    "                        hover_name=\"house_id\", \n",
    "                        hover_data=[\"bedrooms\", \"sqft_living\"], \n",
    "                        size_max=15, \n",
    "                        zoom=8, \n",
    "                        width=900, height=500, #map size\n",
    "                        title =  'Seattle area houses',\n",
    "                        color_continuous_scale=px.colors.sequential.dense)\n",
    "#style of map\n",
    "\n",
    "fig.update_layout(mapbox_style=\"open-street-map\")"
   ]
  },
  {
   "attachments": {},
   "cell_type": "markdown",
   "metadata": {},
   "source": [
    "In which zip code area of the city are the houses that were sold located? Coloring the objects by zipcodes gives an overview over the neighbourhoods. Afterward, the information on demographic parameters can be used."
   ]
  },
  {
   "cell_type": "code",
   "execution_count": null,
   "metadata": {},
   "outputs": [],
   "source": [
    "# create a map of the area with the location of the houses\n",
    "fig = px.scatter_mapbox(df, \n",
    "                        lat=\"lat\", lon=\"long\", # location\n",
    "                        color=\"zipcode\", # column for ranking\n",
    "                        hover_name=\"house_id\", \n",
    "                        hover_data=[\"price\"], \n",
    "                        size_max=15, \n",
    "                        zoom=8, \n",
    "                        width=900, height=500, #map size\n",
    "                        title =  'Seattle area houses',\n",
    "                        color_continuous_scale=px.colors.sequential.Turbo,\n",
    "                        labels = {'zipcode': 'zip'})\n",
    "#style of map\n",
    "fig.update_layout(mapbox_style=\"open-street-map\")"
   ]
  },
  {
   "cell_type": "markdown",
   "metadata": {},
   "source": [
    "## <a id='toc4_'></a>[Regarding the hypotheses and insights](#toc0_)\n",
    "\n",
    "### <a id='toc4_1_'></a>[1) Does the location of a house affect the price?](#toc0_)\n",
    "Hypothesis 1: Houses at the waterfront are more expensive.\n",
    "\n",
    "To give evidence for this hypothesis, not the entire DataFrame is used. Only houses within the range of 25th to 75th percentile of prices are used. Houses that are more or less expensive probably have other features that have major impact on their price.\n"
   ]
  },
  {
   "cell_type": "code",
   "execution_count": null,
   "metadata": {},
   "outputs": [],
   "source": [
    "# average price for houses with known location at the waterfront vs. without\n",
    "\n",
    "# filter houses within price range 25-75th percentile\n",
    "# using the dataframe that contains no NaN\n",
    "df_midprice = df_waterfront_clean[df_waterfront_clean['price'] >= df_stats.price['25%']]\n",
    "df_midprice = df_midprice[df_midprice['price'] <= df_stats.price['75%']]\n"
   ]
  },
  {
   "cell_type": "code",
   "execution_count": null,
   "metadata": {},
   "outputs": [],
   "source": [
    "# boxplot average price for waterfront vs. non\n",
    "\n",
    "fig, ax = plt.subplots()\n",
    "columns = [df_midprice[df_midprice['waterfront'] == True].price, df_midprice[df_midprice['waterfront'] == False].price]\n",
    "ax.boxplot(columns, patch_artist=True)\n",
    "plt.xticks([1, 2], [\"waterfront\", \"no waterfront\"])\n",
    "plt.ylabel(\"price in USD\")\n",
    "plt.show()"
   ]
  },
  {
   "attachments": {},
   "cell_type": "markdown",
   "metadata": {},
   "source": [
    "There is a visible differences in prices between houses with known location at the waterfront and those with known location not at the waterfront. The ones close to the water are more expensive."
   ]
  },
  {
   "attachments": {},
   "cell_type": "markdown",
   "metadata": {},
   "source": [
    "Hypothesis 2: Objects within the suburbs are less expensive.\n"
   ]
  },
  {
   "cell_type": "code",
   "execution_count": null,
   "metadata": {},
   "outputs": [],
   "source": [
    "#  average price for Seattle and suburbs\n",
    "\n",
    "df_suburbs = df[df['city'] != \"Seattle\"]\n",
    "df_center = df[df['city'] == \"Seattle\"]\n",
    "\n",
    "# filter houses within price range 25-75th percentile\n",
    "df_suburbs_midprice = df_suburbs[df_suburbs['price'] >= df_stats.price['25%']]\n",
    "df_suburbs_midprice = df_suburbs_midprice[df_suburbs_midprice['price'] <= df_stats.price['75%']]\n",
    "\n",
    "df_center_midprice = df_center[df_center['price'] >= df_stats.price['25%']]\n",
    "df_center_midprice = df_center_midprice[df_center_midprice['price'] <= df_stats.price['75%']]\n",
    "\n",
    "\n"
   ]
  },
  {
   "cell_type": "code",
   "execution_count": null,
   "metadata": {},
   "outputs": [],
   "source": [
    "# boxplot average price for suburbs vs. center\n",
    "\n",
    "fig, ax = plt.subplots()\n",
    "columns = [df_center_midprice.price, df_suburbs_midprice.price]\n",
    "ax.boxplot(columns, patch_artist=True)\n",
    "plt.xticks([1, 2], [\"city center\", \"suburbs\"])\n",
    "plt.ylabel(\"price in USD\")\n",
    "\n",
    "plt.show()"
   ]
  },
  {
   "attachments": {},
   "cell_type": "markdown",
   "metadata": {},
   "source": [
    "There is no obvious differences in house prices between Seattle zip code areas and prices of houses in the suburbs.\n",
    "\n",
    "This is also visible from the geographical map above."
   ]
  },
  {
   "cell_type": "markdown",
   "metadata": {},
   "source": [
    "### <a id='toc4_2_'></a>[2) Are older houses of less quality?](#toc0_)\n",
    "Hypothesis: The grade of the housing unit is depending on the age and the year of the last renovation."
   ]
  },
  {
   "cell_type": "code",
   "execution_count": null,
   "metadata": {},
   "outputs": [],
   "source": [
    "# correlation matrix using  DataFrame with yr_renovated not 0\n",
    "\n",
    "corr_columns2=[\"grade\", \"yr_built\", \"yr_renovated\"]\n",
    "corr_mtrx2=df_renovated[corr_columns2].corr()"
   ]
  },
  {
   "cell_type": "code",
   "execution_count": null,
   "metadata": {},
   "outputs": [],
   "source": [
    "# draw a heatmap \n",
    "plt.figure(figsize = (5,4))\n",
    "ax = sns.heatmap(corr_mtrx2, linewidths=.5, annot=True, cmap='PRGn')"
   ]
  },
  {
   "attachments": {},
   "cell_type": "markdown",
   "metadata": {},
   "source": [
    "According to the data one cannot assume that a house that was built in the recent years or has been renovated lately is of a higher grade. Here, the grade is defined as \"overall grade given to the housing unit, based on King County grading system\"."
   ]
  },
  {
   "cell_type": "markdown",
   "metadata": {},
   "source": [
    "### <a id='toc4_3_'></a>[3) Do larger houses have more rooms?](#toc0_)\n",
    "Hypothesis: The number of bedrooms and bathrooms increases with the living area. \n",
    "\n",
    "For this analysis only the houses up to 75 th percentile are regarded, as naturally very large houses have many rooms. This might have an distorting effect."
   ]
  },
  {
   "cell_type": "code",
   "execution_count": null,
   "metadata": {},
   "outputs": [],
   "source": [
    "# filter houses within living area range 0-75th percentile\n",
    "df_midla = df[df['sqft_living'] <= df_stats.sqft_living['75%']]\n",
    "df_midla = df_midla[df_midla['sqft_lot'] <= df_stats.sqft_lot['75%']]\n",
    "\n",
    "\n",
    "df_midla['sqft_living'] = df_midla['sqft_living'].astype(int) # define datatype as int, because Int64 made some trouble\n",
    "df_midla['sqft_lot'] = df_midla['sqft_lot'].astype(int) # define datatype as int, because Int64 made some trouble"
   ]
  },
  {
   "cell_type": "code",
   "execution_count": null,
   "metadata": {},
   "outputs": [],
   "source": [
    "# scatterplot depicting relation between sqft_living, and number of bedrooms and bathrooms\n",
    "\n",
    "fig = px.scatter(df_midla, \n",
    "                x='bedrooms', \n",
    "                y='bathrooms', \n",
    "                color = 'sqft_living',\n",
    "                range_x=(0,10),\n",
    "                color_continuous_scale=px.colors.sequential.dense\n",
    ")\n",
    "fig.update_traces(marker_size=12)\n",
    "\n",
    "fig.show()\n"
   ]
  },
  {
   "cell_type": "code",
   "execution_count": null,
   "metadata": {},
   "outputs": [],
   "source": [
    "# including lot area on y-axis\n",
    "df_bed = df[df['bedrooms'] <= 8]\n",
    "\n",
    "fig = px.scatter(df_bed, x=\"sqft_living\", y=\"sqft_lot\", color=\"bedrooms\", range_x=(0,8000), range_y=(0,300000),\n",
    "                color_continuous_scale=px.colors.sequential.dense)\n",
    "fig.show()"
   ]
  },
  {
   "attachments": {},
   "cell_type": "markdown",
   "metadata": {},
   "source": [
    "These plots visualize that with increasing area of living space of the houses the number of bedrooms increases. For bathrooms this relation is not that obvious."
   ]
  },
  {
   "attachments": {},
   "cell_type": "markdown",
   "metadata": {},
   "source": [
    "## <a id='toc5_'></a>[Customer's wishes](#toc0_)\n",
    "\n",
    "The customer Larry Sanders has a precise idea of what his future home should feature.\n",
    "- Located near the waterfront\n",
    "- Not too costly\n",
    "- Nice house with enough rooms for kids and a spacious lot / garden\n",
    "- Isolated from other houses but in a central neighbourhood without kids\n",
    "\n",
    "These wishes are addressed as follows with making feasible assumptions when no further information was given."
   ]
  },
  {
   "cell_type": "markdown",
   "metadata": {},
   "source": [
    "### <a id='toc5_1_'></a>[1) Located near the waterfront](#toc0_)\n",
    "Criteria: The parameter waterfront is True or the house is located in a zip code area close to the bay.\n",
    "\n",
    "These information can be retrieved by using a filter function on the DataFrame.\n",
    "You can filter for \"waterfront\".\n",
    "\n",
    "By using the interactive map provided, zip codes of districts with a long coastline can be found. For these, the probability to have a waterfront close by is higher. E.g. Mercer island, zip 98040.\n",
    "However, a more practical way would be to first look at the other criteria, and depict their location when the DataFrame was filtered accordingly."
   ]
  },
  {
   "cell_type": "code",
   "execution_count": null,
   "metadata": {},
   "outputs": [],
   "source": [
    "# filtering for location near the waterfront\n",
    "\n",
    "waterfront_houses = df[df['waterfront'] == True]\n",
    "waterfront_houses.head()"
   ]
  },
  {
   "cell_type": "code",
   "execution_count": null,
   "metadata": {},
   "outputs": [],
   "source": [
    "# exemplary filter by zip code\n",
    "waterfront_houses_zip = df[df['zipcode'] == 98040]\n",
    "waterfront_houses_zip.head()"
   ]
  },
  {
   "cell_type": "markdown",
   "metadata": {},
   "source": [
    "### <a id='toc5_2_'></a>[2) Not too costly](#toc0_)\n",
    "Criteria: the house price is below the average price of houses sold in the last year.\n"
   ]
  },
  {
   "cell_type": "code",
   "execution_count": null,
   "metadata": {},
   "outputs": [],
   "source": [
    "# get measurements of central tendency for price\n",
    "\n",
    "print(\"The mean price of houses last year: \", df_stats.price[\"mean\"].astype(int), \" USD\")\n",
    "print(\"The median of house prices last year: \", df_stats.price[\"50%\"].astype(int), \" USD\")\n"
   ]
  },
  {
   "cell_type": "code",
   "execution_count": null,
   "metadata": {},
   "outputs": [],
   "source": [
    "# filter DataFrame by measurements of central tendency\n",
    "\n",
    "df_mean = df[df['price'] <= df_stats.price[\"mean\"]]\n",
    "df_median = df[df['price'] <= df_stats.price[\"50%\"]]\n",
    "\n",
    "print(\"There were \", df_mean.shape[0], \" houses sold for less than the mean price. That is about \", int(100*df_mean.shape[0]/df.shape[0]) , \"% of the houses sold in total.\")\n",
    "print(\"There were \", df_median.shape[0], \" houses sold for less than the median of house prices.\")\n",
    "print(\"There were \", df.shape[0], \" houses sold in total.\")"
   ]
  },
  {
   "attachments": {},
   "cell_type": "markdown",
   "metadata": {},
   "source": [
    "In the following, only houses that were sold for less than the mean price over the last years real estate trades in the area are included. As the mean was higher than the median, a buyer might want to decide for himself whether she/he considers the houses on the upper end of the price range."
   ]
  },
  {
   "attachments": {},
   "cell_type": "markdown",
   "metadata": {},
   "source": [
    "### <a id='toc5_3_'></a>[3) Nice house with enough rooms for kids and a spacious lot / garden](#toc0_)\n",
    "Criteria: House has at least 4 bedrooms and 2 bathrooms, lot is larger than average lot. Grade is higher than 7.\n"
   ]
  },
  {
   "cell_type": "code",
   "execution_count": null,
   "metadata": {},
   "outputs": [],
   "source": [
    "# filter for grade\n",
    "df_grade_mean = df_mean[(df_mean['grade'] >7)]\n",
    "print(\"There were \", df_grade_mean.shape[0], \" houses sold matching the grade criteria below the mean price.\")\n",
    "\n"
   ]
  },
  {
   "cell_type": "code",
   "execution_count": null,
   "metadata": {},
   "outputs": [],
   "source": [
    "# filter DataFrame by bedrooms and bathrooms\n",
    "df_rooms_mean = df_grade_mean[(df_grade_mean['bedrooms'] >=4) & (df_grade_mean['bathrooms'] >= 2)]\n",
    "print(\"There were \", df_rooms_mean.shape[0], \" houses sold matching the room criteria below the mean price.\")\n",
    "\n"
   ]
  },
  {
   "attachments": {},
   "cell_type": "markdown",
   "metadata": {},
   "source": [
    "### <a id='toc5_4_'></a>[4) Isolated from other houses but in a central neighbourhood without kids](#toc0_)\n",
    "Criteria: The square footage of interior housing living space for the nearest 15 neighbours AND the square footage of the land lots of the nearest 15 neighbours is higher than the median values of these parameters. The assumption is, that small houses and small lots are less likely owned by families with kids.\n",
    "\n",
    "ALTERNATIVELY zip areas with households with kids less than households without kids."
   ]
  },
  {
   "cell_type": "code",
   "execution_count": null,
   "metadata": {},
   "outputs": [],
   "source": [
    "# filter houses within neighbours living area range 0-50th percentile\n",
    "df_neighbourhood = df_rooms_mean[df_rooms_mean['sqft_living15'] <= df_stats.sqft_living15['50%']]\n",
    "df_neighbourhood = df_neighbourhood[df_neighbourhood['sqft_lot15'] <= df_stats.sqft_lot15['50%']]\n",
    "\n",
    "# filter for houses only within Seattle city area\n",
    "df_neighbourhood = df_neighbourhood[df_neighbourhood['city'] == \"Seattle\"]\n",
    "\n",
    "print(\"There were \", df_neighbourhood.shape[0], \" houses sold matching the neighbourhood criteria below the mean price with at least 4 bedrooms and 2 bathrooms.\")\n"
   ]
  },
  {
   "attachments": {},
   "cell_type": "markdown",
   "metadata": {},
   "source": [
    "To define a neighbourhood with \"no kids nearby\" the criteria: more households without kids than with kids is applied. This would be a less strict approach."
   ]
  },
  {
   "cell_type": "code",
   "execution_count": null,
   "metadata": {},
   "outputs": [],
   "source": [
    "# filter for houses with no kids nearby\n",
    "\n",
    "df_nokids = df_rooms_mean[df_rooms_mean['no_kids'] > df_rooms_mean['kids']]\n",
    "df_nokids = df_nokids[df_nokids['city'] == \"Seattle\"]\n",
    "\n",
    "print(\"There were \", df_nokids.shape[0], \" houses sold matching the kids free neighbourhood criteria below the mean price with at least 4 bedrooms and 2 bathrooms.\")\n",
    "\n",
    "\n",
    "\n"
   ]
  },
  {
   "attachments": {},
   "cell_type": "markdown",
   "metadata": {},
   "source": [
    "Finally, you can depict the houses matching all the criteria above - except for the waterfront location - in a map. With that, the buyer can interactively select the houses that are located as desired."
   ]
  },
  {
   "cell_type": "code",
   "execution_count": null,
   "metadata": {},
   "outputs": [],
   "source": [
    "# create a map of the area with the location of the houses matching the criteria\n",
    "fig = px.scatter_mapbox(df_nokids, \n",
    "                        lat=\"lat\", lon=\"long\", # location\n",
    "                        color=\"price\", # column for ranking\n",
    "                        hover_name=\"house_id\", \n",
    "                        hover_data=[\"bedrooms\", \"sqft_living\"], \n",
    "                        size_max=15, \n",
    "                        zoom=8, \n",
    "                        width=900, height=500, #map size\n",
    "                        title =  'Seattle area houses matching your criteria',\n",
    "                        color_continuous_scale=px.colors.sequential.dense)\n",
    "#style of map\n",
    "fig.update_layout(mapbox_style=\"open-street-map\")"
   ]
  }
 ],
 "metadata": {
  "kernelspec": {
   "display_name": ".venv",
   "language": "python",
   "name": "python3"
  },
  "language_info": {
   "codemirror_mode": {
    "name": "ipython",
    "version": 3
   },
   "file_extension": ".py",
   "mimetype": "text/x-python",
   "name": "python",
   "nbconvert_exporter": "python",
   "pygments_lexer": "ipython3",
   "version": "3.9.8"
  },
  "orig_nbformat": 4,
  "vscode": {
   "interpreter": {
    "hash": "33518378d02d61e964fd78c7007687c062a8f4e053a2fee246d6a10ec89a2152"
   }
  }
 },
 "nbformat": 4,
 "nbformat_minor": 2
}
